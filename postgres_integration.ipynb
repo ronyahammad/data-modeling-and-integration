{
 "cells": [
  {
   "cell_type": "code",
   "execution_count": 2,
   "metadata": {},
   "outputs": [
    {
     "name": "stdout",
     "output_type": "stream",
     "text": [
      "CSV file 'merged_postgres.csv' has been created successfully.\n"
     ]
    }
   ],
   "source": [
    "import psycopg2\n",
    "import csv\n",
    "\n",
    "def merge_and_export_to_csv():\n",
    "    conn_params = {\n",
    "        \"dbname\": \"admin\",\n",
    "        \"user\": \"postgres\",\n",
    "        \"password\": \"admin\",\n",
    "        \"host\": \"localhost\",\n",
    "        \"port\": 5433\n",
    "    }\n",
    "\n",
    "    try:\n",
    "        with psycopg2.connect(**conn_params) as conn:\n",
    "            with conn.cursor() as cursor:\n",
    "\n",
    "                cursor.execute(\"SELECT COUNT(*) FROM Clients_list\")\n",
    "                num_rows = cursor.fetchone()[0]\n",
    "                \n",
    "\n",
    "                if num_rows > 100:\n",
    "                    fetch_limit = 50\n",
    "                elif num_rows > 50:\n",
    "                    fetch_limit = 20\n",
    "                else:\n",
    "                    fetch_limit = num_rows\n",
    "\n",
    "\n",
    "                cursor.execute(\"\"\"\n",
    "                    SELECT c.ClientID, c.Name, c.fullAddress, c.Postcode, c.mobileInfo,\n",
    "                           a.AreaType, cf.CollectionFrequency, cs.LastCollectionDate, cs.NextCollectionDate,\n",
    "                           wc.WasteType, wc.UnitPricePerKg, wd.DisposalDate, wd.QuantityInKg,\n",
    "                           br.BillingDate, br.TotalAmount, bd.QuantityInKg as BillingQuantity, bd.SubTotal\n",
    "                    FROM Clients_list c\n",
    "                    JOIN AreaTypes a ON c.AreaTypeID = a.AreaTypeID\n",
    "                    JOIN CollectionSchedule cs ON c.ClientID = cs.ClientID\n",
    "                    JOIN CollectionFrequencies cf ON cs.FrequencyID = cf.FrequencyID\n",
    "                    JOIN WasteCategories wc ON cs.WasteCategoryID = wc.WasteCategoryID\n",
    "                    LEFT JOIN WasteDisposal wd ON c.ClientID = wd.ClientID AND wc.WasteCategoryID = wd.WasteCategoryID AND cs.FrequencyID = wd.FrequencyID\n",
    "                    LEFT JOIN BillingRecords br ON c.ClientID = br.ClientID\n",
    "                    LEFT JOIN BillingDetails bd ON br.BillingID = bd.BillingID\n",
    "                    LIMIT %s\n",
    "                \"\"\", (fetch_limit,))\n",
    "\n",
    "\n",
    "                with open('merged_postgres.csv', mode='w', newline='') as file:\n",
    "                    writer = csv.writer(file)\n",
    "\n",
    "                    writer.writerow([\n",
    "                        \"ClientID\", \"Name\", \"FullAddress\", \"Postcode\", \"MobileInfo\",\n",
    "                        \"AreaType\", \"CollectionFrequency\", \"LastCollectionDate\", \"NextCollectionDate\",\n",
    "                        \"WasteType\", \"UnitPricePerKg\", \"DisposalDate\", \"QuantityInKg\",\n",
    "                        \"BillingDate\", \"TotalAmount\", \"BillingQuantity\", \"SubTotal\"\n",
    "                    ])\n",
    "                    \n",
    "\n",
    "                    for row in cursor.fetchall():\n",
    "                        writer.writerow(row)\n",
    "\n",
    "                print(\"CSV file 'merged_postgres.csv' has been created successfully.\")\n",
    "\n",
    "    except psycopg2.Error as e:\n",
    "        print(f\"An error occurred: {e}\")\n",
    "\n",
    "if __name__ == \"__main__\":\n",
    "    merge_and_export_to_csv()"
   ]
  },
  {
   "cell_type": "code",
   "execution_count": null,
   "metadata": {},
   "outputs": [],
   "source": []
  }
 ],
 "metadata": {
  "kernelspec": {
   "display_name": "env",
   "language": "python",
   "name": "python3"
  },
  "language_info": {
   "codemirror_mode": {
    "name": "ipython",
    "version": 3
   },
   "file_extension": ".py",
   "mimetype": "text/x-python",
   "name": "python",
   "nbconvert_exporter": "python",
   "pygments_lexer": "ipython3",
   "version": "3.11.9"
  }
 },
 "nbformat": 4,
 "nbformat_minor": 2
}
